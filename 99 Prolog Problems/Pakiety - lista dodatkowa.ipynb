{
 "cells": [
  {
   "cell_type": "markdown",
   "metadata": {},
   "source": [
    "P02"
   ]
  },
  {
   "cell_type": "code",
   "execution_count": 30,
   "metadata": {},
   "outputs": [
    {
     "data": {
      "text/plain": [
       "f2 (generic function with 1 method)"
      ]
     },
     "execution_count": 30,
     "metadata": {},
     "output_type": "execute_result"
    }
   ],
   "source": [
    "f2(iter) = iter[end-1]"
   ]
  },
  {
   "cell_type": "code",
   "execution_count": 31,
   "metadata": {},
   "outputs": [
    {
     "data": {
      "text/plain": [
       "3"
      ]
     },
     "execution_count": 31,
     "metadata": {},
     "output_type": "execute_result"
    }
   ],
   "source": [
    "f2([1,2,3,4])"
   ]
  },
  {
   "cell_type": "code",
   "execution_count": 32,
   "metadata": {},
   "outputs": [
    {
     "data": {
      "text/plain": [
       "28"
      ]
     },
     "execution_count": 32,
     "metadata": {},
     "output_type": "execute_result"
    }
   ],
   "source": [
    "f2([5,3,6,22,53,1,4,28,1])"
   ]
  },
  {
   "cell_type": "code",
   "execution_count": 33,
   "metadata": {},
   "outputs": [
    {
     "data": {
      "text/plain": [
       "'k': ASCII/Unicode U+006B (category Ll: Letter, lowercase)"
      ]
     },
     "execution_count": 33,
     "metadata": {},
     "output_type": "execute_result"
    }
   ],
   "source": [
    "f2(\"mandarynka\")"
   ]
  },
  {
   "cell_type": "code",
   "execution_count": 34,
   "metadata": {},
   "outputs": [
    {
     "data": {
      "text/plain": [
       "f (generic function with 1 method)"
      ]
     },
     "execution_count": 34,
     "metadata": {},
     "output_type": "execute_result"
    }
   ],
   "source": [
    "f(iter) = foldl((a,b)->b, iter)"
   ]
  },
  {
   "cell_type": "code",
   "execution_count": 35,
   "metadata": {},
   "outputs": [
    {
     "data": {
      "text/plain": [
       "16"
      ]
     },
     "execution_count": 35,
     "metadata": {},
     "output_type": "execute_result"
    }
   ],
   "source": [
    "f(i^2 for i in 1:10 if i < 5)"
   ]
  },
  {
   "cell_type": "code",
   "execution_count": 36,
   "metadata": {},
   "outputs": [
    {
     "data": {
      "text/plain": [
       "4"
      ]
     },
     "execution_count": 36,
     "metadata": {},
     "output_type": "execute_result"
    }
   ],
   "source": [
    "f([1,2,3,4])"
   ]
  },
  {
   "cell_type": "markdown",
   "metadata": {},
   "source": [
    "P04"
   ]
  },
  {
   "cell_type": "code",
   "execution_count": 73,
   "metadata": {},
   "outputs": [
    {
     "ename": "LoadError",
     "evalue": "syntax: \"(b - 1)\" is not a valid function argument name around In[73]:1",
     "output_type": "error",
     "traceback": [
      "syntax: \"(b - 1)\" is not a valid function argument name around In[73]:1",
      "",
      "Stacktrace:",
      " [1] top-level scope",
      "   @ In[73]:1",
      " [2] eval",
      "   @ .\\boot.jl:360 [inlined]",
      " [3] include_string(mapexpr::typeof(REPL.softscope), mod::Module, code::String, filename::String)",
      "   @ Base .\\loading.jl:1094"
     ]
    }
   ],
   "source": [
    "f04(iter) = foldl((a,(b-1)->b, iter))"
   ]
  },
  {
   "cell_type": "code",
   "execution_count": 38,
   "metadata": {},
   "outputs": [
    {
     "ename": "LoadError",
     "evalue": "UndefVarError: f04 not defined",
     "output_type": "error",
     "traceback": [
      "UndefVarError: f04 not defined",
      "",
      "Stacktrace:",
      " [1] top-level scope",
      "   @ In[38]:1",
      " [2] eval",
      "   @ .\\boot.jl:360 [inlined]",
      " [3] include_string(mapexpr::typeof(REPL.softscope), mod::Module, code::String, filename::String)",
      "   @ Base .\\loading.jl:1094"
     ]
    }
   ],
   "source": [
    "f04([1,2,3,4])"
   ]
  },
  {
   "cell_type": "code",
   "execution_count": 39,
   "metadata": {},
   "outputs": [
    {
     "ename": "LoadError",
     "evalue": "UndefVarError: f04 not defined",
     "output_type": "error",
     "traceback": [
      "UndefVarError: f04 not defined",
      "",
      "Stacktrace:",
      " [1] top-level scope",
      "   @ In[39]:1",
      " [2] eval",
      "   @ .\\boot.jl:360 [inlined]",
      " [3] include_string(mapexpr::typeof(REPL.softscope), mod::Module, code::String, filename::String)",
      "   @ Base .\\loading.jl:1094"
     ]
    }
   ],
   "source": [
    "f04(i^2 for i in 1:10 if i < 5)"
   ]
  },
  {
   "cell_type": "code",
   "execution_count": 40,
   "metadata": {},
   "outputs": [
    {
     "data": {
      "text/plain": [
       "f4 (generic function with 1 method)"
      ]
     },
     "execution_count": 40,
     "metadata": {},
     "output_type": "execute_result"
    }
   ],
   "source": [
    "f4(iter) = length(iter)"
   ]
  },
  {
   "cell_type": "code",
   "execution_count": 41,
   "metadata": {},
   "outputs": [
    {
     "ename": "LoadError",
     "evalue": "MethodError: no method matching length(::Base.Iterators.Filter{var\"#40#42\", UnitRange{Int64}})\n\u001b[0mClosest candidates are:\n\u001b[0m  length(\u001b[91m::Union{Base.KeySet, Base.ValueIterator}\u001b[39m) at abstractdict.jl:58\n\u001b[0m  length(\u001b[91m::Union{LinearAlgebra.Adjoint{T, S}, LinearAlgebra.Transpose{T, S}} where {T, S}\u001b[39m) at C:\\buildbot\\worker\\package_win64\\build\\usr\\share\\julia\\stdlib\\v1.6\\LinearAlgebra\\src\\adjtrans.jl:195\n\u001b[0m  length(\u001b[91m::Union{ZMQ._Message, Base.RefValue{ZMQ._Message}}\u001b[39m) at C:\\Users\\julek\\.julia\\packages\\ZMQ\\R3wSD\\src\\_message.jl:31\n\u001b[0m  ...",
     "output_type": "error",
     "traceback": [
      "MethodError: no method matching length(::Base.Iterators.Filter{var\"#40#42\", UnitRange{Int64}})\n\u001b[0mClosest candidates are:\n\u001b[0m  length(\u001b[91m::Union{Base.KeySet, Base.ValueIterator}\u001b[39m) at abstractdict.jl:58\n\u001b[0m  length(\u001b[91m::Union{LinearAlgebra.Adjoint{T, S}, LinearAlgebra.Transpose{T, S}} where {T, S}\u001b[39m) at C:\\buildbot\\worker\\package_win64\\build\\usr\\share\\julia\\stdlib\\v1.6\\LinearAlgebra\\src\\adjtrans.jl:195\n\u001b[0m  length(\u001b[91m::Union{ZMQ._Message, Base.RefValue{ZMQ._Message}}\u001b[39m) at C:\\Users\\julek\\.julia\\packages\\ZMQ\\R3wSD\\src\\_message.jl:31\n\u001b[0m  ...",
      "",
      "Stacktrace:",
      " [1] length(g::Base.Generator{Base.Iterators.Filter{var\"#40#42\", UnitRange{Int64}}, var\"#39#41\"})",
      "   @ Base .\\generator.jl:50",
      " [2] f4(iter::Base.Generator{Base.Iterators.Filter{var\"#40#42\", UnitRange{Int64}}, var\"#39#41\"})",
      "   @ Main .\\In[40]:1",
      " [3] top-level scope",
      "   @ In[41]:2",
      " [4] eval",
      "   @ .\\boot.jl:360 [inlined]",
      " [5] include_string(mapexpr::typeof(REPL.softscope), mod::Module, code::String, filename::String)",
      "   @ Base .\\loading.jl:1094"
     ]
    }
   ],
   "source": [
    "iter = (i^2 for i in 1:10 if i < 5)\n",
    "f4(iter)"
   ]
  },
  {
   "cell_type": "code",
   "execution_count": null,
   "metadata": {},
   "outputs": [],
   "source": []
  },
  {
   "cell_type": "code",
   "execution_count": 42,
   "metadata": {},
   "outputs": [
    {
     "data": {
      "text/plain": [
       "4"
      ]
     },
     "execution_count": 42,
     "metadata": {},
     "output_type": "execute_result"
    }
   ],
   "source": [
    "f4([1,2,3,4])"
   ]
  },
  {
   "cell_type": "code",
   "execution_count": 43,
   "metadata": {},
   "outputs": [
    {
     "data": {
      "text/plain": [
       "8"
      ]
     },
     "execution_count": 43,
     "metadata": {},
     "output_type": "execute_result"
    }
   ],
   "source": [
    "f4([32,5,6,2,1,3,134,184])"
   ]
  },
  {
   "cell_type": "markdown",
   "metadata": {},
   "source": [
    "P05"
   ]
  },
  {
   "cell_type": "code",
   "execution_count": 44,
   "metadata": {},
   "outputs": [
    {
     "data": {
      "text/plain": [
       "f5 (generic function with 1 method)"
      ]
     },
     "execution_count": 44,
     "metadata": {},
     "output_type": "execute_result"
    }
   ],
   "source": [
    "f5(iter) = reverse(iter)"
   ]
  },
  {
   "cell_type": "code",
   "execution_count": 76,
   "metadata": {},
   "outputs": [
    {
     "ename": "LoadError",
     "evalue": "MethodError: no method matching reverse(::Base.Generator{Base.Iterators.Filter{var\"#67#69\", UnitRange{Int64}}, var\"#66#68\"})\n\u001b[0mClosest candidates are:\n\u001b[0m  reverse(\u001b[91m::Tuple\u001b[39m) at tuple.jl:466\n\u001b[0m  reverse(\u001b[91m::Pair{A, B}\u001b[39m) where {A, B} at pair.jl:61\n\u001b[0m  reverse(\u001b[91m::Union{SubString{String}, String}\u001b[39m) at strings/substring.jl:166\n\u001b[0m  ...",
     "output_type": "error",
     "traceback": [
      "MethodError: no method matching reverse(::Base.Generator{Base.Iterators.Filter{var\"#67#69\", UnitRange{Int64}}, var\"#66#68\"})\n\u001b[0mClosest candidates are:\n\u001b[0m  reverse(\u001b[91m::Tuple\u001b[39m) at tuple.jl:466\n\u001b[0m  reverse(\u001b[91m::Pair{A, B}\u001b[39m) where {A, B} at pair.jl:61\n\u001b[0m  reverse(\u001b[91m::Union{SubString{String}, String}\u001b[39m) at strings/substring.jl:166\n\u001b[0m  ...",
      "",
      "Stacktrace:",
      " [1] f5(iter::Base.Generator{Base.Iterators.Filter{var\"#67#69\", UnitRange{Int64}}, var\"#66#68\"})",
      "   @ Main .\\In[44]:1",
      " [2] top-level scope",
      "   @ In[76]:1",
      " [3] eval",
      "   @ .\\boot.jl:360 [inlined]",
      " [4] include_string(mapexpr::typeof(REPL.softscope), mod::Module, code::String, filename::String)",
      "   @ Base .\\loading.jl:1094"
     ]
    }
   ],
   "source": [
    "f5(i^2 for i in 1:10 if i < 5)"
   ]
  },
  {
   "cell_type": "code",
   "execution_count": null,
   "metadata": {},
   "outputs": [],
   "source": []
  },
  {
   "cell_type": "code",
   "execution_count": 45,
   "metadata": {},
   "outputs": [
    {
     "data": {
      "text/plain": [
       "6-element Vector{Int64}:\n",
       " 6\n",
       " 5\n",
       " 4\n",
       " 3\n",
       " 2\n",
       " 1"
      ]
     },
     "execution_count": 45,
     "metadata": {},
     "output_type": "execute_result"
    }
   ],
   "source": [
    "f5([1,2,3,4,5,6])"
   ]
  },
  {
   "cell_type": "code",
   "execution_count": 46,
   "metadata": {},
   "outputs": [
    {
     "data": {
      "text/plain": [
       "7-element Vector{Int64}:\n",
       "  20\n",
       "  88\n",
       "   1\n",
       " 100\n",
       "  70\n",
       "  40\n",
       "  30"
      ]
     },
     "execution_count": 46,
     "metadata": {},
     "output_type": "execute_result"
    }
   ],
   "source": [
    "f5([30,40,70,100,1,88,20])"
   ]
  },
  {
   "cell_type": "markdown",
   "metadata": {},
   "source": [
    "P08"
   ]
  },
  {
   "cell_type": "code",
   "execution_count": 47,
   "metadata": {},
   "outputs": [
    {
     "data": {
      "text/plain": [
       "f8 (generic function with 1 method)"
      ]
     },
     "execution_count": 47,
     "metadata": {},
     "output_type": "execute_result"
    }
   ],
   "source": [
    "f8(iter) = unique(iter)"
   ]
  },
  {
   "cell_type": "code",
   "execution_count": 48,
   "metadata": {},
   "outputs": [
    {
     "data": {
      "text/plain": [
       "3-element Vector{Int64}:\n",
       " 1\n",
       " 2\n",
       " 3"
      ]
     },
     "execution_count": 48,
     "metadata": {},
     "output_type": "execute_result"
    }
   ],
   "source": [
    "f8([1,1,2,2,3,3,1])"
   ]
  },
  {
   "cell_type": "code",
   "execution_count": 77,
   "metadata": {},
   "outputs": [
    {
     "data": {
      "text/plain": [
       "5-element Vector{Int64}:\n",
       " 3\n",
       " 4\n",
       " 1\n",
       " 6\n",
       " 2"
      ]
     },
     "execution_count": 77,
     "metadata": {},
     "output_type": "execute_result"
    }
   ],
   "source": [
    "f8([3,3,4,4,1,6,6,6,2,2,2,2,2])"
   ]
  },
  {
   "cell_type": "code",
   "execution_count": 78,
   "metadata": {},
   "outputs": [
    {
     "data": {
      "text/plain": [
       "4-element Vector{Int64}:\n",
       "  1\n",
       "  4\n",
       "  9\n",
       " 16"
      ]
     },
     "execution_count": 78,
     "metadata": {},
     "output_type": "execute_result"
    }
   ],
   "source": [
    "f8(i^2 for i in 1:10 if i < 5)"
   ]
  },
  {
   "cell_type": "markdown",
   "metadata": {},
   "source": [
    "P10"
   ]
  },
  {
   "cell_type": "code",
   "execution_count": 50,
   "metadata": {},
   "outputs": [
    {
     "data": {
      "text/plain": [
       "3-element Vector{Int64}:\n",
       " 5\n",
       " 7\n",
       " 8"
      ]
     },
     "execution_count": 50,
     "metadata": {},
     "output_type": "execute_result"
    }
   ],
   "source": [
    "x =[1,2,3,4,8,5,8,8]\n",
    "findall(i->i==8, x)"
   ]
  },
  {
   "cell_type": "code",
   "execution_count": 51,
   "metadata": {},
   "outputs": [
    {
     "data": {
      "text/plain": [
       "P10 (generic function with 1 method)"
      ]
     },
     "execution_count": 51,
     "metadata": {},
     "output_type": "execute_result"
    }
   ],
   "source": [
    "function P10(iter)\n",
    "    unique([(length(findall(y->y==i, iter)),i) for i in iter]) |> display\n",
    "end"
   ]
  },
  {
   "cell_type": "code",
   "execution_count": 79,
   "metadata": {},
   "outputs": [
    {
     "data": {
      "text/plain": [
       "5-element Vector{Tuple{Int64, Int64}}:\n",
       " (1, 1)\n",
       " (3, 2)\n",
       " (2, 3)\n",
       " (3, 4)\n",
       " (1, 5)"
      ]
     },
     "metadata": {},
     "output_type": "display_data"
    }
   ],
   "source": [
    "P10([1,2,2,2,3,3,4,4,4,5])"
   ]
  },
  {
   "cell_type": "code",
   "execution_count": 80,
   "metadata": {},
   "outputs": [
    {
     "ename": "LoadError",
     "evalue": "MethodError: no method matching keys(::Base.Generator{Base.Iterators.Filter{var\"#75#77\", UnitRange{Int64}}, var\"#74#76\"})\n\u001b[0mClosest candidates are:\n\u001b[0m  keys(\u001b[91m::IndexStyle\u001b[39m, \u001b[91m::AbstractArray\u001b[39m, \u001b[91m::AbstractArray...\u001b[39m) at abstractarray.jl:327\n\u001b[0m  keys(\u001b[91m::IOContext\u001b[39m) at show.jl:344\n\u001b[0m  keys(\u001b[91m::Base.SkipMissing\u001b[39m) at missing.jl:255\n\u001b[0m  ...",
     "output_type": "error",
     "traceback": [
      "MethodError: no method matching keys(::Base.Generator{Base.Iterators.Filter{var\"#75#77\", UnitRange{Int64}}, var\"#74#76\"})\n\u001b[0mClosest candidates are:\n\u001b[0m  keys(\u001b[91m::IndexStyle\u001b[39m, \u001b[91m::AbstractArray\u001b[39m, \u001b[91m::AbstractArray...\u001b[39m) at abstractarray.jl:327\n\u001b[0m  keys(\u001b[91m::IOContext\u001b[39m) at show.jl:344\n\u001b[0m  keys(\u001b[91m::Base.SkipMissing\u001b[39m) at missing.jl:255\n\u001b[0m  ...",
      "",
      "Stacktrace:",
      "  [1] pairs(collection::Base.Generator{Base.Iterators.Filter{var\"#75#77\", UnitRange{Int64}}, var\"#74#76\"})",
      "    @ Base .\\abstractdict.jl:138",
      "  [2] findall(testf::var\"#46#48\"{Int64}, A::Base.Generator{Base.Iterators.Filter{var\"#75#77\", UnitRange{Int64}}, var\"#74#76\"})",
      "    @ Base .\\array.jl:2153",
      "  [3] (::var\"#45#47\"{Base.Generator{Base.Iterators.Filter{var\"#75#77\", UnitRange{Int64}}, var\"#74#76\"}})(i::Int64)",
      "    @ Main .\\none:0",
      "  [4] iterate",
      "    @ .\\generator.jl:47 [inlined]",
      "  [5] grow_to!",
      "    @ .\\array.jl:739 [inlined]",
      "  [6] collect",
      "    @ .\\array.jl:676 [inlined]",
      "  [7] P10(iter::Base.Generator{Base.Iterators.Filter{var\"#75#77\", UnitRange{Int64}}, var\"#74#76\"})",
      "    @ Main .\\In[51]:2",
      "  [8] top-level scope",
      "    @ In[80]:1",
      "  [9] eval",
      "    @ .\\boot.jl:360 [inlined]",
      " [10] include_string(mapexpr::typeof(REPL.softscope), mod::Module, code::String, filename::String)",
      "    @ Base .\\loading.jl:1094"
     ]
    }
   ],
   "source": [
    "P10(i^2 for i in 1:10 if i < 5)"
   ]
  },
  {
   "cell_type": "code",
   "execution_count": 53,
   "metadata": {},
   "outputs": [
    {
     "data": {
      "text/plain": [
       "3-element Vector{Tuple{Int64, Char}}:\n",
       " (3, 'a')\n",
       " (2, 'n')\n",
       " (1, 's')"
      ]
     },
     "metadata": {},
     "output_type": "display_data"
    }
   ],
   "source": [
    "P10(\"ananas\")"
   ]
  },
  {
   "cell_type": "markdown",
   "metadata": {},
   "source": [
    "P15"
   ]
  },
  {
   "cell_type": "code",
   "execution_count": 54,
   "metadata": {},
   "outputs": [
    {
     "data": {
      "text/plain": [
       "P15 (generic function with 1 method)"
      ]
     },
     "execution_count": 54,
     "metadata": {},
     "output_type": "execute_result"
    }
   ],
   "source": [
    "#żle!!!!!\n",
    "function P15(iter, n::Int)\n",
    "    l = []\n",
    "    for i in iter\n",
    "        z = repeated(i,3)\n",
    "        append!(l,collect(z))\n",
    "    end\n",
    "    l |> display\n",
    "end"
   ]
  },
  {
   "cell_type": "code",
   "execution_count": 55,
   "metadata": {},
   "outputs": [
    {
     "ename": "LoadError",
     "evalue": "UndefVarError: repeated not defined",
     "output_type": "error",
     "traceback": [
      "UndefVarError: repeated not defined",
      "",
      "Stacktrace:",
      " [1] P15(iter::Vector{Int64}, n::Int64)",
      "   @ Main .\\In[54]:5",
      " [2] top-level scope",
      "   @ In[55]:1",
      " [3] eval",
      "   @ .\\boot.jl:360 [inlined]",
      " [4] include_string(mapexpr::typeof(REPL.softscope), mod::Module, code::String, filename::String)",
      "   @ Base .\\loading.jl:1094"
     ]
    }
   ],
   "source": [
    "P15([1,2,3,4], 3)"
   ]
  },
  {
   "cell_type": "code",
   "execution_count": 56,
   "metadata": {},
   "outputs": [
    {
     "data": {
      "text/plain": [
       "p15 (generic function with 1 method)"
      ]
     },
     "execution_count": 56,
     "metadata": {},
     "output_type": "execute_result"
    }
   ],
   "source": [
    "function p15(iter, n::Int)\n",
    "    [i for i in iter for p in 1:n] |> display\n",
    "end"
   ]
  },
  {
   "cell_type": "code",
   "execution_count": 57,
   "metadata": {},
   "outputs": [
    {
     "data": {
      "text/plain": [
       "12-element Vector{Int64}:\n",
       " 1\n",
       " 1\n",
       " 1\n",
       " 2\n",
       " 2\n",
       " 2\n",
       " 3\n",
       " 3\n",
       " 3\n",
       " 6\n",
       " 6\n",
       " 6"
      ]
     },
     "metadata": {},
     "output_type": "display_data"
    }
   ],
   "source": [
    "p15([1,2,3,6],3)"
   ]
  },
  {
   "cell_type": "code",
   "execution_count": 58,
   "metadata": {},
   "outputs": [
    {
     "data": {
      "text/plain": [
       "12-element Vector{Int64}:\n",
       "  1\n",
       "  1\n",
       "  1\n",
       "  4\n",
       "  4\n",
       "  4\n",
       "  9\n",
       "  9\n",
       "  9\n",
       " 16\n",
       " 16\n",
       " 16"
      ]
     },
     "metadata": {},
     "output_type": "display_data"
    }
   ],
   "source": [
    "p15((i^2 for i in 1:10 if i < 5), 3)"
   ]
  },
  {
   "cell_type": "code",
   "execution_count": 59,
   "metadata": {},
   "outputs": [
    {
     "data": {
      "text/plain": [
       "10-element Vector{Char}:\n",
       " 'b': ASCII/Unicode U+0062 (category Ll: Letter, lowercase)\n",
       " 'b': ASCII/Unicode U+0062 (category Ll: Letter, lowercase)\n",
       " 'a': ASCII/Unicode U+0061 (category Ll: Letter, lowercase)\n",
       " 'a': ASCII/Unicode U+0061 (category Ll: Letter, lowercase)\n",
       " 'n': ASCII/Unicode U+006E (category Ll: Letter, lowercase)\n",
       " 'n': ASCII/Unicode U+006E (category Ll: Letter, lowercase)\n",
       " 'a': ASCII/Unicode U+0061 (category Ll: Letter, lowercase)\n",
       " 'a': ASCII/Unicode U+0061 (category Ll: Letter, lowercase)\n",
       " 'n': ASCII/Unicode U+006E (category Ll: Letter, lowercase)\n",
       " 'n': ASCII/Unicode U+006E (category Ll: Letter, lowercase)"
      ]
     },
     "metadata": {},
     "output_type": "display_data"
    }
   ],
   "source": [
    "p15(\"banan\",2)"
   ]
  },
  {
   "cell_type": "markdown",
   "metadata": {},
   "source": [
    "P16"
   ]
  },
  {
   "cell_type": "code",
   "execution_count": 60,
   "metadata": {},
   "outputs": [
    {
     "data": {
      "text/plain": [
       "p16 (generic function with 1 method)"
      ]
     },
     "execution_count": 60,
     "metadata": {},
     "output_type": "execute_result"
    }
   ],
   "source": [
    "function p16(iter, n::Int)\n",
    "    splice!(iter, [iter[i] for i in n:n:length(iter)])\n",
    "    iter |> display\n",
    "end"
   ]
  },
  {
   "cell_type": "code",
   "execution_count": 81,
   "metadata": {},
   "outputs": [
    {
     "data": {
      "text/plain": [
       "6-element Vector{Int64}:\n",
       " 1\n",
       " 2\n",
       " 4\n",
       " 5\n",
       " 7\n",
       " 8"
      ]
     },
     "metadata": {},
     "output_type": "display_data"
    }
   ],
   "source": [
    "p16([1,2,3,4,5,6,7,8], 3)"
   ]
  },
  {
   "cell_type": "code",
   "execution_count": 82,
   "metadata": {},
   "outputs": [
    {
     "ename": "LoadError",
     "evalue": "MethodError: no method matching p16(::Base.Generator{Base.Iterators.Filter{var\"#79#81\", UnitRange{Int64}}, var\"#78#80\"})\n\u001b[0mClosest candidates are:\n\u001b[0m  p16(::Any, \u001b[91m::Int64\u001b[39m) at In[60]:1",
     "output_type": "error",
     "traceback": [
      "MethodError: no method matching p16(::Base.Generator{Base.Iterators.Filter{var\"#79#81\", UnitRange{Int64}}, var\"#78#80\"})\n\u001b[0mClosest candidates are:\n\u001b[0m  p16(::Any, \u001b[91m::Int64\u001b[39m) at In[60]:1",
      "",
      "Stacktrace:",
      " [1] top-level scope",
      "   @ In[82]:1",
      " [2] eval",
      "   @ .\\boot.jl:360 [inlined]",
      " [3] include_string(mapexpr::typeof(REPL.softscope), mod::Module, code::String, filename::String)",
      "   @ Base .\\loading.jl:1094"
     ]
    }
   ],
   "source": [
    "p16(i^2 for i in 1:10 if i < 5)"
   ]
  },
  {
   "cell_type": "markdown",
   "metadata": {},
   "source": [
    "P19"
   ]
  },
  {
   "cell_type": "code",
   "execution_count": 62,
   "metadata": {},
   "outputs": [
    {
     "data": {
      "text/plain": [
       "f19 (generic function with 1 method)"
      ]
     },
     "execution_count": 62,
     "metadata": {},
     "output_type": "execute_result"
    }
   ],
   "source": [
    "f19(iter, n::Int) = vcat(iter[end-n+1:end], iter[1:end-n]) "
   ]
  },
  {
   "cell_type": "code",
   "execution_count": 63,
   "metadata": {},
   "outputs": [
    {
     "data": {
      "text/plain": [
       "8-element Vector{Int64}:\n",
       " 0\n",
       " 0\n",
       " 0\n",
       " 1\n",
       " 1\n",
       " 2\n",
       " 2\n",
       " 0"
      ]
     },
     "execution_count": 63,
     "metadata": {},
     "output_type": "execute_result"
    }
   ],
   "source": [
    "f19([1,1,2,2,0,0,0,0],3)"
   ]
  },
  {
   "cell_type": "code",
   "execution_count": 64,
   "metadata": {},
   "outputs": [
    {
     "data": {
      "text/plain": [
       "10-element Vector{Int64}:\n",
       " 5\n",
       " 6\n",
       " 7\n",
       " 8\n",
       " 9\n",
       " 0\n",
       " 1\n",
       " 2\n",
       " 3\n",
       " 4"
      ]
     },
     "execution_count": 64,
     "metadata": {},
     "output_type": "execute_result"
    }
   ],
   "source": [
    "f19([0,1,2,3,4,5,6,7,8,9],5)"
   ]
  },
  {
   "cell_type": "markdown",
   "metadata": {},
   "source": [
    "P20"
   ]
  },
  {
   "cell_type": "code",
   "execution_count": 65,
   "metadata": {},
   "outputs": [
    {
     "data": {
      "text/plain": [
       "P20 (generic function with 1 method)"
      ]
     },
     "execution_count": 65,
     "metadata": {},
     "output_type": "execute_result"
    }
   ],
   "source": [
    "function P20(iter,n::Int)\n",
    "    splice!(iter,n)\n",
    "    iter |> display\n",
    "end"
   ]
  },
  {
   "cell_type": "code",
   "execution_count": 66,
   "metadata": {},
   "outputs": [
    {
     "data": {
      "text/plain": [
       "3-element Vector{Int64}:\n",
       " 1\n",
       " 3\n",
       " 2"
      ]
     },
     "metadata": {},
     "output_type": "display_data"
    }
   ],
   "source": [
    "P20([1,2,3,2], 2)"
   ]
  },
  {
   "cell_type": "code",
   "execution_count": 67,
   "metadata": {},
   "outputs": [
    {
     "data": {
      "text/plain": [
       "6-element Vector{Int64}:\n",
       " 4\n",
       " 2\n",
       " 4\n",
       " 4\n",
       " 1\n",
       " 3"
      ]
     },
     "metadata": {},
     "output_type": "display_data"
    }
   ],
   "source": [
    "P20([4,2,4,422,4,1,3], 4)"
   ]
  },
  {
   "cell_type": "code",
   "execution_count": 68,
   "metadata": {},
   "outputs": [
    {
     "data": {
      "text/plain": [
       "p20 (generic function with 1 method)"
      ]
     },
     "execution_count": 68,
     "metadata": {},
     "output_type": "execute_result"
    }
   ],
   "source": [
    "#nie do końca działa\n",
    "function p20(iter,n::Int)\n",
    "    [i for i in iter if i!=iter[n]] |> display\n",
    "end"
   ]
  },
  {
   "cell_type": "code",
   "execution_count": 69,
   "metadata": {},
   "outputs": [
    {
     "data": {
      "text/plain": [
       "7-element Vector{Int64}:\n",
       "  12\n",
       " 876\n",
       "   3\n",
       "   1\n",
       "   2\n",
       "   3\n",
       "   4"
      ]
     },
     "metadata": {},
     "output_type": "display_data"
    }
   ],
   "source": [
    "p20([12,876,3,556,1,2,3,4], 4)"
   ]
  },
  {
   "cell_type": "code",
   "execution_count": 70,
   "metadata": {},
   "outputs": [
    {
     "data": {
      "text/plain": [
       "2-element Vector{String}:\n",
       " \"banan\"\n",
       " \"mandarynka\""
      ]
     },
     "metadata": {},
     "output_type": "display_data"
    }
   ],
   "source": [
    "p20([\"banan\", \"jabłko\", \"mandarynka\"],2)"
   ]
  },
  {
   "cell_type": "code",
   "execution_count": 72,
   "metadata": {},
   "outputs": [
    {
     "data": {
      "text/plain": [
       "5-element Vector{Char}:\n",
       " 'n': ASCII/Unicode U+006E (category Ll: Letter, lowercase)\n",
       " 'k': ASCII/Unicode U+006B (category Ll: Letter, lowercase)\n",
       " 'o': ASCII/Unicode U+006F (category Ll: Letter, lowercase)\n",
       " 'n': ASCII/Unicode U+006E (category Ll: Letter, lowercase)\n",
       " 'd': ASCII/Unicode U+0064 (category Ll: Letter, lowercase)"
      ]
     },
     "metadata": {},
     "output_type": "display_data"
    }
   ],
   "source": [
    "p20(\"anakonda\",3)"
   ]
  }
 ],
 "metadata": {
  "kernelspec": {
   "display_name": "Julia 1.6.1",
   "language": "julia",
   "name": "julia-1.6"
  },
  "language_info": {
   "file_extension": ".jl",
   "mimetype": "application/julia",
   "name": "julia",
   "version": "1.6.1"
  }
 },
 "nbformat": 4,
 "nbformat_minor": 4
}
